{
 "cells": [
  {
   "cell_type": "code",
   "execution_count": 1,
   "id": "439ce919-7ea1-4ceb-9b5f-a6068938cc46",
   "metadata": {},
   "outputs": [
    {
     "data": {
      "text/html": [
       "<div>\n",
       "<style scoped>\n",
       "    .dataframe tbody tr th:only-of-type {\n",
       "        vertical-align: middle;\n",
       "    }\n",
       "\n",
       "    .dataframe tbody tr th {\n",
       "        vertical-align: top;\n",
       "    }\n",
       "\n",
       "    .dataframe thead th {\n",
       "        text-align: right;\n",
       "    }\n",
       "</style>\n",
       "<table border=\"1\" class=\"dataframe\">\n",
       "  <thead>\n",
       "    <tr style=\"text-align: right;\">\n",
       "      <th></th>\n",
       "      <th>req_id</th>\n",
       "      <th>request_time</th>\n",
       "      <th>os_id</th>\n",
       "      <th>ssp_uid</th>\n",
       "      <th>slot_id</th>\n",
       "      <th>n_slot_position</th>\n",
       "      <th>sponsor_id</th>\n",
       "      <th>campaign_id</th>\n",
       "      <th>creative_id</th>\n",
       "      <th>region</th>\n",
       "      <th>...</th>\n",
       "      <th>prob_man</th>\n",
       "      <th>sponsor_fq</th>\n",
       "      <th>sponsor_inview_fq</th>\n",
       "      <th>sponsor_recency</th>\n",
       "      <th>sponsor_inview_recency</th>\n",
       "      <th>click_time</th>\n",
       "      <th>cv_time</th>\n",
       "      <th>click_flg</th>\n",
       "      <th>cv_flg</th>\n",
       "      <th>site_id</th>\n",
       "    </tr>\n",
       "  </thead>\n",
       "  <tbody>\n",
       "    <tr>\n",
       "      <th>0</th>\n",
       "      <td>0</td>\n",
       "      <td>2022-06-14 15:00:07+00:00</td>\n",
       "      <td>Windows</td>\n",
       "      <td>0</td>\n",
       "      <td>0</td>\n",
       "      <td>3.0</td>\n",
       "      <td>0</td>\n",
       "      <td>0</td>\n",
       "      <td>0</td>\n",
       "      <td>aichi</td>\n",
       "      <td>...</td>\n",
       "      <td>0.985029</td>\n",
       "      <td>6</td>\n",
       "      <td>5</td>\n",
       "      <td>370</td>\n",
       "      <td>410</td>\n",
       "      <td>NaN</td>\n",
       "      <td>NaN</td>\n",
       "      <td>0</td>\n",
       "      <td>0</td>\n",
       "      <td>0</td>\n",
       "    </tr>\n",
       "    <tr>\n",
       "      <th>1</th>\n",
       "      <td>1</td>\n",
       "      <td>2022-06-14 15:00:07+00:00</td>\n",
       "      <td>iOS</td>\n",
       "      <td>1</td>\n",
       "      <td>1</td>\n",
       "      <td>NaN</td>\n",
       "      <td>1</td>\n",
       "      <td>1</td>\n",
       "      <td>1</td>\n",
       "      <td>osaka</td>\n",
       "      <td>...</td>\n",
       "      <td>NaN</td>\n",
       "      <td>0</td>\n",
       "      <td>0</td>\n",
       "      <td>-1</td>\n",
       "      <td>-1</td>\n",
       "      <td>NaN</td>\n",
       "      <td>NaN</td>\n",
       "      <td>0</td>\n",
       "      <td>0</td>\n",
       "      <td>1</td>\n",
       "    </tr>\n",
       "    <tr>\n",
       "      <th>2</th>\n",
       "      <td>2</td>\n",
       "      <td>2022-06-14 15:00:07+00:00</td>\n",
       "      <td>iOS</td>\n",
       "      <td>1</td>\n",
       "      <td>2</td>\n",
       "      <td>NaN</td>\n",
       "      <td>1</td>\n",
       "      <td>1</td>\n",
       "      <td>2</td>\n",
       "      <td>osaka</td>\n",
       "      <td>...</td>\n",
       "      <td>NaN</td>\n",
       "      <td>0</td>\n",
       "      <td>0</td>\n",
       "      <td>-1</td>\n",
       "      <td>-1</td>\n",
       "      <td>NaN</td>\n",
       "      <td>NaN</td>\n",
       "      <td>0</td>\n",
       "      <td>0</td>\n",
       "      <td>1</td>\n",
       "    </tr>\n",
       "    <tr>\n",
       "      <th>3</th>\n",
       "      <td>3</td>\n",
       "      <td>2022-06-14 15:00:08+00:00</td>\n",
       "      <td>Windows</td>\n",
       "      <td>2</td>\n",
       "      <td>3</td>\n",
       "      <td>NaN</td>\n",
       "      <td>2</td>\n",
       "      <td>2</td>\n",
       "      <td>3</td>\n",
       "      <td>tokyo</td>\n",
       "      <td>...</td>\n",
       "      <td>NaN</td>\n",
       "      <td>5</td>\n",
       "      <td>2</td>\n",
       "      <td>5</td>\n",
       "      <td>2</td>\n",
       "      <td>NaN</td>\n",
       "      <td>NaN</td>\n",
       "      <td>0</td>\n",
       "      <td>0</td>\n",
       "      <td>2</td>\n",
       "    </tr>\n",
       "    <tr>\n",
       "      <th>4</th>\n",
       "      <td>4</td>\n",
       "      <td>2022-06-14 15:00:09+00:00</td>\n",
       "      <td>Android</td>\n",
       "      <td>3</td>\n",
       "      <td>4</td>\n",
       "      <td>NaN</td>\n",
       "      <td>3</td>\n",
       "      <td>3</td>\n",
       "      <td>4</td>\n",
       "      <td>tokyo</td>\n",
       "      <td>...</td>\n",
       "      <td>NaN</td>\n",
       "      <td>0</td>\n",
       "      <td>0</td>\n",
       "      <td>-1</td>\n",
       "      <td>-1</td>\n",
       "      <td>NaN</td>\n",
       "      <td>NaN</td>\n",
       "      <td>0</td>\n",
       "      <td>0</td>\n",
       "      <td>3</td>\n",
       "    </tr>\n",
       "    <tr>\n",
       "      <th>...</th>\n",
       "      <td>...</td>\n",
       "      <td>...</td>\n",
       "      <td>...</td>\n",
       "      <td>...</td>\n",
       "      <td>...</td>\n",
       "      <td>...</td>\n",
       "      <td>...</td>\n",
       "      <td>...</td>\n",
       "      <td>...</td>\n",
       "      <td>...</td>\n",
       "      <td>...</td>\n",
       "      <td>...</td>\n",
       "      <td>...</td>\n",
       "      <td>...</td>\n",
       "      <td>...</td>\n",
       "      <td>...</td>\n",
       "      <td>...</td>\n",
       "      <td>...</td>\n",
       "      <td>...</td>\n",
       "      <td>...</td>\n",
       "      <td>...</td>\n",
       "    </tr>\n",
       "    <tr>\n",
       "      <th>5038562</th>\n",
       "      <td>5038562</td>\n",
       "      <td>2022-07-26 14:59:52+00:00</td>\n",
       "      <td>Android</td>\n",
       "      <td>158132</td>\n",
       "      <td>979</td>\n",
       "      <td>NaN</td>\n",
       "      <td>8</td>\n",
       "      <td>8</td>\n",
       "      <td>118</td>\n",
       "      <td>miyazaki</td>\n",
       "      <td>...</td>\n",
       "      <td>NaN</td>\n",
       "      <td>8</td>\n",
       "      <td>1</td>\n",
       "      <td>145</td>\n",
       "      <td>15356</td>\n",
       "      <td>NaN</td>\n",
       "      <td>NaN</td>\n",
       "      <td>0</td>\n",
       "      <td>0</td>\n",
       "      <td>11</td>\n",
       "    </tr>\n",
       "    <tr>\n",
       "      <th>5038563</th>\n",
       "      <td>5038563</td>\n",
       "      <td>2022-07-26 14:59:55+00:00</td>\n",
       "      <td>Android</td>\n",
       "      <td>164623</td>\n",
       "      <td>225</td>\n",
       "      <td>3.0</td>\n",
       "      <td>7</td>\n",
       "      <td>7</td>\n",
       "      <td>35</td>\n",
       "      <td>tokyo</td>\n",
       "      <td>...</td>\n",
       "      <td>NaN</td>\n",
       "      <td>2</td>\n",
       "      <td>0</td>\n",
       "      <td>37590</td>\n",
       "      <td>-1</td>\n",
       "      <td>NaN</td>\n",
       "      <td>NaN</td>\n",
       "      <td>0</td>\n",
       "      <td>0</td>\n",
       "      <td>31</td>\n",
       "    </tr>\n",
       "    <tr>\n",
       "      <th>5038564</th>\n",
       "      <td>5038564</td>\n",
       "      <td>2022-07-26 14:59:57+00:00</td>\n",
       "      <td>iOS</td>\n",
       "      <td>3054</td>\n",
       "      <td>2</td>\n",
       "      <td>NaN</td>\n",
       "      <td>2</td>\n",
       "      <td>2</td>\n",
       "      <td>708</td>\n",
       "      <td>kagoshima</td>\n",
       "      <td>...</td>\n",
       "      <td>NaN</td>\n",
       "      <td>3</td>\n",
       "      <td>1</td>\n",
       "      <td>219</td>\n",
       "      <td>308</td>\n",
       "      <td>NaN</td>\n",
       "      <td>NaN</td>\n",
       "      <td>0</td>\n",
       "      <td>0</td>\n",
       "      <td>1</td>\n",
       "    </tr>\n",
       "    <tr>\n",
       "      <th>5038565</th>\n",
       "      <td>5038565</td>\n",
       "      <td>2022-07-26 14:59:57+00:00</td>\n",
       "      <td>Android</td>\n",
       "      <td>53986</td>\n",
       "      <td>6</td>\n",
       "      <td>1.0</td>\n",
       "      <td>17</td>\n",
       "      <td>17</td>\n",
       "      <td>491</td>\n",
       "      <td>osaka</td>\n",
       "      <td>...</td>\n",
       "      <td>NaN</td>\n",
       "      <td>1</td>\n",
       "      <td>0</td>\n",
       "      <td>5</td>\n",
       "      <td>-1</td>\n",
       "      <td>NaN</td>\n",
       "      <td>NaN</td>\n",
       "      <td>0</td>\n",
       "      <td>0</td>\n",
       "      <td>5</td>\n",
       "    </tr>\n",
       "    <tr>\n",
       "      <th>5038566</th>\n",
       "      <td>5038566</td>\n",
       "      <td>2022-07-26 14:59:59+00:00</td>\n",
       "      <td>Android</td>\n",
       "      <td>80017</td>\n",
       "      <td>979</td>\n",
       "      <td>NaN</td>\n",
       "      <td>8</td>\n",
       "      <td>8</td>\n",
       "      <td>279</td>\n",
       "      <td>tokyo</td>\n",
       "      <td>...</td>\n",
       "      <td>0.445011</td>\n",
       "      <td>5</td>\n",
       "      <td>1</td>\n",
       "      <td>23135</td>\n",
       "      <td>26470</td>\n",
       "      <td>NaN</td>\n",
       "      <td>NaN</td>\n",
       "      <td>0</td>\n",
       "      <td>0</td>\n",
       "      <td>11</td>\n",
       "    </tr>\n",
       "  </tbody>\n",
       "</table>\n",
       "<p>5038567 rows × 21 columns</p>\n",
       "</div>"
      ],
      "text/plain": [
       "          req_id              request_time    os_id  ssp_uid  slot_id  \\\n",
       "0              0 2022-06-14 15:00:07+00:00  Windows        0        0   \n",
       "1              1 2022-06-14 15:00:07+00:00      iOS        1        1   \n",
       "2              2 2022-06-14 15:00:07+00:00      iOS        1        2   \n",
       "3              3 2022-06-14 15:00:08+00:00  Windows        2        3   \n",
       "4              4 2022-06-14 15:00:09+00:00  Android        3        4   \n",
       "...          ...                       ...      ...      ...      ...   \n",
       "5038562  5038562 2022-07-26 14:59:52+00:00  Android   158132      979   \n",
       "5038563  5038563 2022-07-26 14:59:55+00:00  Android   164623      225   \n",
       "5038564  5038564 2022-07-26 14:59:57+00:00      iOS     3054        2   \n",
       "5038565  5038565 2022-07-26 14:59:57+00:00  Android    53986        6   \n",
       "5038566  5038566 2022-07-26 14:59:59+00:00  Android    80017      979   \n",
       "\n",
       "         n_slot_position  sponsor_id  campaign_id  creative_id     region  \\\n",
       "0                    3.0           0            0            0      aichi   \n",
       "1                    NaN           1            1            1      osaka   \n",
       "2                    NaN           1            1            2      osaka   \n",
       "3                    NaN           2            2            3      tokyo   \n",
       "4                    NaN           3            3            4      tokyo   \n",
       "...                  ...         ...          ...          ...        ...   \n",
       "5038562              NaN           8            8          118   miyazaki   \n",
       "5038563              3.0           7            7           35      tokyo   \n",
       "5038564              NaN           2            2          708  kagoshima   \n",
       "5038565              1.0          17           17          491      osaka   \n",
       "5038566              NaN           8            8          279      tokyo   \n",
       "\n",
       "         ...  prob_man  sponsor_fq  sponsor_inview_fq  sponsor_recency  \\\n",
       "0        ...  0.985029           6                  5              370   \n",
       "1        ...       NaN           0                  0               -1   \n",
       "2        ...       NaN           0                  0               -1   \n",
       "3        ...       NaN           5                  2                5   \n",
       "4        ...       NaN           0                  0               -1   \n",
       "...      ...       ...         ...                ...              ...   \n",
       "5038562  ...       NaN           8                  1              145   \n",
       "5038563  ...       NaN           2                  0            37590   \n",
       "5038564  ...       NaN           3                  1              219   \n",
       "5038565  ...       NaN           1                  0                5   \n",
       "5038566  ...  0.445011           5                  1            23135   \n",
       "\n",
       "         sponsor_inview_recency  click_time cv_time click_flg  cv_flg  site_id  \n",
       "0                           410         NaN     NaN         0       0        0  \n",
       "1                            -1         NaN     NaN         0       0        1  \n",
       "2                            -1         NaN     NaN         0       0        1  \n",
       "3                             2         NaN     NaN         0       0        2  \n",
       "4                            -1         NaN     NaN         0       0        3  \n",
       "...                         ...         ...     ...       ...     ...      ...  \n",
       "5038562                   15356         NaN     NaN         0       0       11  \n",
       "5038563                      -1         NaN     NaN         0       0       31  \n",
       "5038564                     308         NaN     NaN         0       0        1  \n",
       "5038565                      -1         NaN     NaN         0       0        5  \n",
       "5038566                   26470         NaN     NaN         0       0       11  \n",
       "\n",
       "[5038567 rows x 21 columns]"
      ]
     },
     "execution_count": 1,
     "metadata": {},
     "output_type": "execute_result"
    }
   ],
   "source": [
    "import pandas as pd\n",
    "import seaborn as sns\n",
    "df = pd.read_csv(\"intern_public_dataset_2022/df_train_20220802.csv\", low_memory=False)\n",
    "df_rt = pd.read_csv(\"intern_public_dataset_2022/df_rt_20220802.csv\", low_memory=False)\n",
    "df_test_unlabeled = pd.read_csv(\"intern_public_dataset_2022/df_test_unlabeled_20220802.csv\", low_memory=False)\n",
    "df[\"request_time\"] = pd.to_datetime(df[\"request_time\"])\n",
    "df_test_unlabeled[\"request_time\"] = pd.to_datetime(df_test_unlabeled[\"request_time\"])\n",
    "df_rt[\"request_time\"] = pd.to_datetime(df_rt[\"request_time\"])\n",
    "df"
   ]
  },
  {
   "cell_type": "code",
   "execution_count": 2,
   "id": "bb70feb1-8f8b-4a2b-8cac-bc273b7d6910",
   "metadata": {},
   "outputs": [
    {
     "name": "stdout",
     "output_type": "stream",
     "text": [
      "Index(['Android', 'Mac', 'Windows', 'iOS'], dtype='object')\n",
      "Index(['aichi', 'akita', 'aomori', 'chiba', 'ehime', 'fukui', 'fukuoka',\n",
      "       'fukushima', 'gifu', 'gumma', 'hiroshima', 'hokkaido', 'hyogo',\n",
      "       'ibaraki', 'ishikawa', 'iwate', 'kagawa', 'kagoshima', 'kanagawa',\n",
      "       'kochi', 'kumamoto', 'kyoto', 'mie', 'miyagi', 'miyazaki', 'nagano',\n",
      "       'nagasaki', 'nara', 'niigata', 'oita', 'okayama', 'okinawa', 'osaka',\n",
      "       'saga', 'saitama', 'shiga', 'shimane', 'shizuoka', 'tochigi',\n",
      "       'tokushima', 'tokyo', 'tottori', 'toyama', 'wakayama', 'yamagata',\n",
      "       'yamaguchi', 'yamanashi'],\n",
      "      dtype='object')\n"
     ]
    },
    {
     "data": {
      "text/html": [
       "<div>\n",
       "<style scoped>\n",
       "    .dataframe tbody tr th:only-of-type {\n",
       "        vertical-align: middle;\n",
       "    }\n",
       "\n",
       "    .dataframe tbody tr th {\n",
       "        vertical-align: top;\n",
       "    }\n",
       "\n",
       "    .dataframe thead th {\n",
       "        text-align: right;\n",
       "    }\n",
       "</style>\n",
       "<table border=\"1\" class=\"dataframe\">\n",
       "  <thead>\n",
       "    <tr style=\"text-align: right;\">\n",
       "      <th></th>\n",
       "      <th>req_id</th>\n",
       "      <th>request_time</th>\n",
       "      <th>os_id</th>\n",
       "      <th>ssp_uid</th>\n",
       "      <th>slot_id</th>\n",
       "      <th>n_slot_position</th>\n",
       "      <th>sponsor_id</th>\n",
       "      <th>campaign_id</th>\n",
       "      <th>creative_id</th>\n",
       "      <th>region</th>\n",
       "      <th>...</th>\n",
       "      <th>prob_man</th>\n",
       "      <th>sponsor_fq</th>\n",
       "      <th>sponsor_inview_fq</th>\n",
       "      <th>sponsor_recency</th>\n",
       "      <th>sponsor_inview_recency</th>\n",
       "      <th>click_time</th>\n",
       "      <th>cv_time</th>\n",
       "      <th>click_flg</th>\n",
       "      <th>cv_flg</th>\n",
       "      <th>site_id</th>\n",
       "    </tr>\n",
       "  </thead>\n",
       "  <tbody>\n",
       "    <tr>\n",
       "      <th>0</th>\n",
       "      <td>0</td>\n",
       "      <td>2022-06-14 15:00:07+00:00</td>\n",
       "      <td>2</td>\n",
       "      <td>0</td>\n",
       "      <td>0</td>\n",
       "      <td>3.0</td>\n",
       "      <td>0</td>\n",
       "      <td>0</td>\n",
       "      <td>0</td>\n",
       "      <td>0</td>\n",
       "      <td>...</td>\n",
       "      <td>0.985029</td>\n",
       "      <td>6</td>\n",
       "      <td>5</td>\n",
       "      <td>370</td>\n",
       "      <td>410</td>\n",
       "      <td>NaN</td>\n",
       "      <td>NaN</td>\n",
       "      <td>0</td>\n",
       "      <td>0</td>\n",
       "      <td>0</td>\n",
       "    </tr>\n",
       "    <tr>\n",
       "      <th>1</th>\n",
       "      <td>1</td>\n",
       "      <td>2022-06-14 15:00:07+00:00</td>\n",
       "      <td>3</td>\n",
       "      <td>1</td>\n",
       "      <td>1</td>\n",
       "      <td>NaN</td>\n",
       "      <td>1</td>\n",
       "      <td>1</td>\n",
       "      <td>1</td>\n",
       "      <td>32</td>\n",
       "      <td>...</td>\n",
       "      <td>NaN</td>\n",
       "      <td>0</td>\n",
       "      <td>0</td>\n",
       "      <td>-1</td>\n",
       "      <td>-1</td>\n",
       "      <td>NaN</td>\n",
       "      <td>NaN</td>\n",
       "      <td>0</td>\n",
       "      <td>0</td>\n",
       "      <td>1</td>\n",
       "    </tr>\n",
       "    <tr>\n",
       "      <th>2</th>\n",
       "      <td>2</td>\n",
       "      <td>2022-06-14 15:00:07+00:00</td>\n",
       "      <td>3</td>\n",
       "      <td>1</td>\n",
       "      <td>2</td>\n",
       "      <td>NaN</td>\n",
       "      <td>1</td>\n",
       "      <td>1</td>\n",
       "      <td>2</td>\n",
       "      <td>32</td>\n",
       "      <td>...</td>\n",
       "      <td>NaN</td>\n",
       "      <td>0</td>\n",
       "      <td>0</td>\n",
       "      <td>-1</td>\n",
       "      <td>-1</td>\n",
       "      <td>NaN</td>\n",
       "      <td>NaN</td>\n",
       "      <td>0</td>\n",
       "      <td>0</td>\n",
       "      <td>1</td>\n",
       "    </tr>\n",
       "    <tr>\n",
       "      <th>3</th>\n",
       "      <td>3</td>\n",
       "      <td>2022-06-14 15:00:08+00:00</td>\n",
       "      <td>2</td>\n",
       "      <td>2</td>\n",
       "      <td>3</td>\n",
       "      <td>NaN</td>\n",
       "      <td>2</td>\n",
       "      <td>2</td>\n",
       "      <td>3</td>\n",
       "      <td>40</td>\n",
       "      <td>...</td>\n",
       "      <td>NaN</td>\n",
       "      <td>5</td>\n",
       "      <td>2</td>\n",
       "      <td>5</td>\n",
       "      <td>2</td>\n",
       "      <td>NaN</td>\n",
       "      <td>NaN</td>\n",
       "      <td>0</td>\n",
       "      <td>0</td>\n",
       "      <td>2</td>\n",
       "    </tr>\n",
       "    <tr>\n",
       "      <th>4</th>\n",
       "      <td>4</td>\n",
       "      <td>2022-06-14 15:00:09+00:00</td>\n",
       "      <td>0</td>\n",
       "      <td>3</td>\n",
       "      <td>4</td>\n",
       "      <td>NaN</td>\n",
       "      <td>3</td>\n",
       "      <td>3</td>\n",
       "      <td>4</td>\n",
       "      <td>40</td>\n",
       "      <td>...</td>\n",
       "      <td>NaN</td>\n",
       "      <td>0</td>\n",
       "      <td>0</td>\n",
       "      <td>-1</td>\n",
       "      <td>-1</td>\n",
       "      <td>NaN</td>\n",
       "      <td>NaN</td>\n",
       "      <td>0</td>\n",
       "      <td>0</td>\n",
       "      <td>3</td>\n",
       "    </tr>\n",
       "    <tr>\n",
       "      <th>...</th>\n",
       "      <td>...</td>\n",
       "      <td>...</td>\n",
       "      <td>...</td>\n",
       "      <td>...</td>\n",
       "      <td>...</td>\n",
       "      <td>...</td>\n",
       "      <td>...</td>\n",
       "      <td>...</td>\n",
       "      <td>...</td>\n",
       "      <td>...</td>\n",
       "      <td>...</td>\n",
       "      <td>...</td>\n",
       "      <td>...</td>\n",
       "      <td>...</td>\n",
       "      <td>...</td>\n",
       "      <td>...</td>\n",
       "      <td>...</td>\n",
       "      <td>...</td>\n",
       "      <td>...</td>\n",
       "      <td>...</td>\n",
       "      <td>...</td>\n",
       "    </tr>\n",
       "    <tr>\n",
       "      <th>5038562</th>\n",
       "      <td>5038562</td>\n",
       "      <td>2022-07-26 14:59:52+00:00</td>\n",
       "      <td>0</td>\n",
       "      <td>158132</td>\n",
       "      <td>979</td>\n",
       "      <td>NaN</td>\n",
       "      <td>8</td>\n",
       "      <td>8</td>\n",
       "      <td>118</td>\n",
       "      <td>24</td>\n",
       "      <td>...</td>\n",
       "      <td>NaN</td>\n",
       "      <td>8</td>\n",
       "      <td>1</td>\n",
       "      <td>145</td>\n",
       "      <td>15356</td>\n",
       "      <td>NaN</td>\n",
       "      <td>NaN</td>\n",
       "      <td>0</td>\n",
       "      <td>0</td>\n",
       "      <td>11</td>\n",
       "    </tr>\n",
       "    <tr>\n",
       "      <th>5038563</th>\n",
       "      <td>5038563</td>\n",
       "      <td>2022-07-26 14:59:55+00:00</td>\n",
       "      <td>0</td>\n",
       "      <td>164623</td>\n",
       "      <td>225</td>\n",
       "      <td>3.0</td>\n",
       "      <td>7</td>\n",
       "      <td>7</td>\n",
       "      <td>35</td>\n",
       "      <td>40</td>\n",
       "      <td>...</td>\n",
       "      <td>NaN</td>\n",
       "      <td>2</td>\n",
       "      <td>0</td>\n",
       "      <td>37590</td>\n",
       "      <td>-1</td>\n",
       "      <td>NaN</td>\n",
       "      <td>NaN</td>\n",
       "      <td>0</td>\n",
       "      <td>0</td>\n",
       "      <td>31</td>\n",
       "    </tr>\n",
       "    <tr>\n",
       "      <th>5038564</th>\n",
       "      <td>5038564</td>\n",
       "      <td>2022-07-26 14:59:57+00:00</td>\n",
       "      <td>3</td>\n",
       "      <td>3054</td>\n",
       "      <td>2</td>\n",
       "      <td>NaN</td>\n",
       "      <td>2</td>\n",
       "      <td>2</td>\n",
       "      <td>708</td>\n",
       "      <td>17</td>\n",
       "      <td>...</td>\n",
       "      <td>NaN</td>\n",
       "      <td>3</td>\n",
       "      <td>1</td>\n",
       "      <td>219</td>\n",
       "      <td>308</td>\n",
       "      <td>NaN</td>\n",
       "      <td>NaN</td>\n",
       "      <td>0</td>\n",
       "      <td>0</td>\n",
       "      <td>1</td>\n",
       "    </tr>\n",
       "    <tr>\n",
       "      <th>5038565</th>\n",
       "      <td>5038565</td>\n",
       "      <td>2022-07-26 14:59:57+00:00</td>\n",
       "      <td>0</td>\n",
       "      <td>53986</td>\n",
       "      <td>6</td>\n",
       "      <td>1.0</td>\n",
       "      <td>17</td>\n",
       "      <td>17</td>\n",
       "      <td>491</td>\n",
       "      <td>32</td>\n",
       "      <td>...</td>\n",
       "      <td>NaN</td>\n",
       "      <td>1</td>\n",
       "      <td>0</td>\n",
       "      <td>5</td>\n",
       "      <td>-1</td>\n",
       "      <td>NaN</td>\n",
       "      <td>NaN</td>\n",
       "      <td>0</td>\n",
       "      <td>0</td>\n",
       "      <td>5</td>\n",
       "    </tr>\n",
       "    <tr>\n",
       "      <th>5038566</th>\n",
       "      <td>5038566</td>\n",
       "      <td>2022-07-26 14:59:59+00:00</td>\n",
       "      <td>0</td>\n",
       "      <td>80017</td>\n",
       "      <td>979</td>\n",
       "      <td>NaN</td>\n",
       "      <td>8</td>\n",
       "      <td>8</td>\n",
       "      <td>279</td>\n",
       "      <td>40</td>\n",
       "      <td>...</td>\n",
       "      <td>0.445011</td>\n",
       "      <td>5</td>\n",
       "      <td>1</td>\n",
       "      <td>23135</td>\n",
       "      <td>26470</td>\n",
       "      <td>NaN</td>\n",
       "      <td>NaN</td>\n",
       "      <td>0</td>\n",
       "      <td>0</td>\n",
       "      <td>11</td>\n",
       "    </tr>\n",
       "  </tbody>\n",
       "</table>\n",
       "<p>5038567 rows × 21 columns</p>\n",
       "</div>"
      ],
      "text/plain": [
       "          req_id              request_time  os_id  ssp_uid  slot_id  \\\n",
       "0              0 2022-06-14 15:00:07+00:00      2        0        0   \n",
       "1              1 2022-06-14 15:00:07+00:00      3        1        1   \n",
       "2              2 2022-06-14 15:00:07+00:00      3        1        2   \n",
       "3              3 2022-06-14 15:00:08+00:00      2        2        3   \n",
       "4              4 2022-06-14 15:00:09+00:00      0        3        4   \n",
       "...          ...                       ...    ...      ...      ...   \n",
       "5038562  5038562 2022-07-26 14:59:52+00:00      0   158132      979   \n",
       "5038563  5038563 2022-07-26 14:59:55+00:00      0   164623      225   \n",
       "5038564  5038564 2022-07-26 14:59:57+00:00      3     3054        2   \n",
       "5038565  5038565 2022-07-26 14:59:57+00:00      0    53986        6   \n",
       "5038566  5038566 2022-07-26 14:59:59+00:00      0    80017      979   \n",
       "\n",
       "         n_slot_position  sponsor_id  campaign_id  creative_id  region  ...  \\\n",
       "0                    3.0           0            0            0       0  ...   \n",
       "1                    NaN           1            1            1      32  ...   \n",
       "2                    NaN           1            1            2      32  ...   \n",
       "3                    NaN           2            2            3      40  ...   \n",
       "4                    NaN           3            3            4      40  ...   \n",
       "...                  ...         ...          ...          ...     ...  ...   \n",
       "5038562              NaN           8            8          118      24  ...   \n",
       "5038563              3.0           7            7           35      40  ...   \n",
       "5038564              NaN           2            2          708      17  ...   \n",
       "5038565              1.0          17           17          491      32  ...   \n",
       "5038566              NaN           8            8          279      40  ...   \n",
       "\n",
       "         prob_man  sponsor_fq  sponsor_inview_fq  sponsor_recency  \\\n",
       "0        0.985029           6                  5              370   \n",
       "1             NaN           0                  0               -1   \n",
       "2             NaN           0                  0               -1   \n",
       "3             NaN           5                  2                5   \n",
       "4             NaN           0                  0               -1   \n",
       "...           ...         ...                ...              ...   \n",
       "5038562       NaN           8                  1              145   \n",
       "5038563       NaN           2                  0            37590   \n",
       "5038564       NaN           3                  1              219   \n",
       "5038565       NaN           1                  0                5   \n",
       "5038566  0.445011           5                  1            23135   \n",
       "\n",
       "         sponsor_inview_recency  click_time cv_time click_flg  cv_flg  site_id  \n",
       "0                           410         NaN     NaN         0       0        0  \n",
       "1                            -1         NaN     NaN         0       0        1  \n",
       "2                            -1         NaN     NaN         0       0        1  \n",
       "3                             2         NaN     NaN         0       0        2  \n",
       "4                            -1         NaN     NaN         0       0        3  \n",
       "...                         ...         ...     ...       ...     ...      ...  \n",
       "5038562                   15356         NaN     NaN         0       0       11  \n",
       "5038563                      -1         NaN     NaN         0       0       31  \n",
       "5038564                     308         NaN     NaN         0       0        1  \n",
       "5038565                      -1         NaN     NaN         0       0        5  \n",
       "5038566                   26470         NaN     NaN         0       0       11  \n",
       "\n",
       "[5038567 rows x 21 columns]"
      ]
     },
     "execution_count": 2,
     "metadata": {},
     "output_type": "execute_result"
    }
   ],
   "source": [
    "dic_osid = []\n",
    "dic_region= []\n",
    "encode_cols = ['os_id','region']\n",
    "for c in encode_cols:\n",
    "    if c == 'os_id':\n",
    "        env,obj = pd.factorize(df[c],sort=True)\n",
    "        df[c] = env\n",
    "        dic_osid = obj\n",
    "    else:\n",
    "        env,obj = pd.factorize(df[c],sort=True)\n",
    "        df[c] = env\n",
    "        dic_region = obj\n",
    "print(dic_osid)\n",
    "print(dic_region)\n",
    "df"
   ]
  },
  {
   "cell_type": "code",
   "execution_count": 30,
   "id": "eef2852b-7921-47db-b8b6-34f48d42578a",
   "metadata": {},
   "outputs": [
    {
     "data": {
      "text/plain": [
       "105809907"
      ]
     },
     "execution_count": 30,
     "metadata": {},
     "output_type": "execute_result"
    }
   ],
   "source": [
    "5038567*21"
   ]
  },
  {
   "cell_type": "code",
   "execution_count": 29,
   "id": "a08e03f2-83e5-444d-ba7c-c1520a3f1b64",
   "metadata": {},
   "outputs": [
    {
     "data": {
      "text/plain": [
       "19296196"
      ]
     },
     "execution_count": 29,
     "metadata": {},
     "output_type": "execute_result"
    }
   ],
   "source": [
    "tmp = 0\n",
    "for col in df.columns:\n",
    "    filt = pd.isna(df[col])\n",
    "    tmp += filt.sum()\n",
    "    # print(filt.sum())\n",
    "tmp\n"
   ]
  },
  {
   "cell_type": "code",
   "execution_count": 31,
   "id": "eec434db-7d0d-43d4-9642-7128751363a0",
   "metadata": {},
   "outputs": [
    {
     "data": {
      "text/plain": [
       "0.18236662848593185"
      ]
     },
     "execution_count": 31,
     "metadata": {},
     "output_type": "execute_result"
    }
   ],
   "source": [
    "19296196/105809907"
   ]
  },
  {
   "cell_type": "code",
   "execution_count": 3,
   "id": "e99c0249-ee52-4fb9-949c-446906e9341d",
   "metadata": {},
   "outputs": [
    {
     "name": "stderr",
     "output_type": "stream",
     "text": [
      "/opt/conda/lib/python3.7/site-packages/ipykernel_launcher.py:1: FutureWarning: DataFrame.mean and DataFrame.median with numeric_only=None will include datetime64 and datetime64tz columns in a future version.\n",
      "  \"\"\"Entry point for launching an IPython kernel.\n",
      "/opt/conda/lib/python3.7/site-packages/ipykernel_launcher.py:1: FutureWarning: Dropping of nuisance columns in DataFrame reductions (with 'numeric_only=None') is deprecated; in a future version this will raise TypeError.  Select only valid columns before calling the reduction.\n",
      "  \"\"\"Entry point for launching an IPython kernel.\n"
     ]
    }
   ],
   "source": [
    "df = df.fillna(df.mean())"
   ]
  },
  {
   "cell_type": "code",
   "execution_count": 4,
   "id": "ea825014-4c9c-4e25-a6af-a16c35937f89",
   "metadata": {},
   "outputs": [],
   "source": [
    "df.dropna(axis=1,how='any',inplace=True)"
   ]
  },
  {
   "cell_type": "code",
   "execution_count": 6,
   "id": "1852aae2-4034-48a9-92c0-b9c5546669cb",
   "metadata": {},
   "outputs": [],
   "source": [
    "df['request_time']=pd.to_datetime(df['request_time'])\n",
    "new = pd.DataFrame((df.groupby([(df['request_time'].dt.month),(df['request_time'].dt.day)])[\"click_flg\"].sum())/(df.groupby([(df['request_time'].dt.month),(df['request_time'].dt.day)])[\"click_flg\"].size()))\n"
   ]
  },
  {
   "cell_type": "code",
   "execution_count": 5,
   "id": "78dcd5b6-774b-4731-b40f-a4f966897075",
   "metadata": {},
   "outputs": [],
   "source": [
    "import numpy as np\n",
    "from matplotlib import pyplot as plt\n",
    "import seaborn as sns\n",
    "import pandas as pd\n",
    "from sklearn.discriminant_analysis import LinearDiscriminantAnalysis\n",
    "from sklearn.metrics import accuracy_score\n",
    "from statistics import mean\n",
    "from sklearn.model_selection import train_test_split\n",
    "from sklearn.metrics import roc_auc_score\n",
    "import time"
   ]
  },
  {
   "cell_type": "code",
   "execution_count": 9,
   "id": "45618c25-defd-4b53-b897-9691291f0a95",
   "metadata": {},
   "outputs": [
    {
     "data": {
      "text/plain": [
       "0    4989282\n",
       "1      49285\n",
       "Name: click_flg, dtype: int64"
      ]
     },
     "execution_count": 9,
     "metadata": {},
     "output_type": "execute_result"
    }
   ],
   "source": [
    "df['click_flg'].value_counts()"
   ]
  },
  {
   "cell_type": "code",
   "execution_count": 6,
   "id": "7961909f-0c4a-42eb-836a-307c94900dc4",
   "metadata": {},
   "outputs": [],
   "source": [
    "X = df.drop(['click_flg','request_time','cv_flg'], axis=1)\n",
    "Y = df['click_flg']"
   ]
  },
  {
   "cell_type": "code",
   "execution_count": 7,
   "id": "54712910-764f-4c05-a825-9b3a662b537f",
   "metadata": {},
   "outputs": [],
   "source": [
    "X_train, X_test, Y_train, Y_test = train_test_split(X, Y, test_size=0.30, random_state=0, stratify=Y)"
   ]
  },
  {
   "cell_type": "code",
   "execution_count": 13,
   "id": "263c20fe-5981-4915-b659-74aa16b4375a",
   "metadata": {},
   "outputs": [
    {
     "data": {
      "text/plain": [
       "16"
      ]
     },
     "execution_count": 13,
     "metadata": {},
     "output_type": "execute_result"
    }
   ],
   "source": [
    "len(X_train.columns)"
   ]
  },
  {
   "cell_type": "code",
   "execution_count": 45,
   "id": "f16b9293-e460-484d-95b1-b0cd952bb98d",
   "metadata": {},
   "outputs": [
    {
     "data": {
      "image/png": "[encoded data removed]",
      "text/plain": [
       "<Figure size 936x288 with 1 Axes>"
      ]
     },
     "metadata": {
      "needs_background": "light"
     },
     "output_type": "display_data"
    }
   ],
   "source": [
    "#LDA\n",
    "\n",
    "\n",
    "\n",
    "clf = LinearDiscriminantAnalysis(n_components=1)\n",
    "time_start_train = time.time()\n",
    "clf.fit(X_train,Y_train)\n",
    "X_train_transformed = clf.transform(X_train)\n",
    "# X_train_transformed\n",
    "\n",
    "plt.figure(figsize=(13, 4))\n",
    "plt.subplot(121)\n",
    "plt.scatter(X_train_transformed[:, 0],\n",
    "            Y_train, cmap='viridis', edgecolor='blacK')\n",
    "plt.title('LDA', fontsize=20)\n",
    "plt.show()\n",
    "\n",
    "# time_end_train = time.time()\n",
    "# times_train=(time_end_train-time_start_train)\n",
    "\n",
    "# time_start_pre = time.time()\n",
    "# predicted = clf.predict_proba(X_test)\n",
    "# time_end_pre = time.time()\n",
    "# times_pre = time_end_pre-time_start_pre\n",
    "\n",
    "# ROC_AUC_SCORE = roc_auc_score(Y_test,predicted[:,-1])\n",
    "\n",
    "\n",
    "\n",
    "\n",
    "# score = accuracy_score(predicted, Y_test)\n",
    "# print('Accuracy: ' + str(score))"
   ]
  },
  {
   "cell_type": "code",
   "execution_count": null,
   "id": "be93a823-de9b-4a64-928a-5080a973bc06",
   "metadata": {},
   "outputs": [],
   "source": []
  },
  {
   "cell_type": "code",
   "execution_count": 9,
   "id": "a0cb2a24-61af-40fe-bce5-3c336c2f0ebb",
   "metadata": {},
   "outputs": [
    {
     "name": "stdout",
     "output_type": "stream",
     "text": [
      "10.30564022064209\n",
      "0.2212681770324707\n",
      "0.7825306111111903\n"
     ]
    }
   ],
   "source": [
    "print(times_train)\n",
    "print(times_pre)\n",
    "print(ROC_AUC_SCORE)"
   ]
  },
  {
   "cell_type": "code",
   "execution_count": 8,
   "id": "0deffc86-13a0-4803-8c7e-ef584ddb635b",
   "metadata": {},
   "outputs": [],
   "source": [
    "#PCA\n",
    "from sklearn.decomposition import PCA\n",
    "import lightgbm as lgb\n",
    "\n",
    "\n",
    "dims = [8,9,10,11,12,13]\n",
    "times_train = []\n",
    "times_pre = []\n",
    "ROC_AUC_SCORE = []\n",
    "\n",
    "for dim in dims:\n",
    "    X_train_tmp = X_train\n",
    "    X_test_tmp = X_test\n",
    "    \n",
    "    clf = PCA(n_components=dim)\n",
    "    \n",
    "    clf.fit(X_train_tmp)\n",
    "    \n",
    "    \n",
    "    \n",
    "    X_train_tmp = clf.transform(X_train_tmp)\n",
    "    clf.fit(X_test_tmp)\n",
    "    X_test_tmp = clf.transform(X_test_tmp)\n",
    "    \n",
    "    time_start_train = time.time()\n",
    "    model = lgb.LGBMClassifier()\n",
    "    model.fit(X_train_tmp,Y_train)\n",
    "    time_end_train = time.time()\n",
    "    times_train.append(time_end_train-time_start_train)\n",
    "    \n",
    "   \n",
    "\n",
    "    time_start_pre = time.time()\n",
    "    predicted = model.predict_proba(X_test_tmp)\n",
    "    time_end_pre = time.time()\n",
    "    times_pre.append(time_end_pre - time_start_pre)\n",
    "    ROC_AUC_SCORE.append(roc_auc_score(Y_test,predicted[:,-1]))\n",
    "\n",
    "\n",
    "\n",
    "\n",
    "# score = accuracy_score(predicted, Y_test)\n",
    "# print('Accuracy: ' + str(score))"
   ]
  },
  {
   "cell_type": "code",
   "execution_count": 9,
   "id": "493bb1f9-624c-4bc1-863b-354e271169b9",
   "metadata": {},
   "outputs": [
    {
     "data": {
      "text/plain": [
       "[28.347519636154175,\n",
       " 27.191433906555176,\n",
       " 32.407042026519775,\n",
       " 31.246403217315674,\n",
       " 36.6754469871521,\n",
       " 35.25782632827759]"
      ]
     },
     "execution_count": 9,
     "metadata": {},
     "output_type": "execute_result"
    }
   ],
   "source": [
    "times_train"
   ]
  },
  {
   "cell_type": "code",
   "execution_count": 10,
   "id": "4197bb50-74e5-4244-96ff-89ea6f634fa2",
   "metadata": {},
   "outputs": [
    {
     "data": {
      "text/plain": [
       "[4.83068060874939,\n",
       " 4.860852241516113,\n",
       " 5.219556570053101,\n",
       " 5.276562213897705,\n",
       " 5.5862836837768555,\n",
       " 5.1149561405181885]"
      ]
     },
     "execution_count": 10,
     "metadata": {},
     "output_type": "execute_result"
    }
   ],
   "source": [
    "times_pre"
   ]
  },
  {
   "cell_type": "code",
   "execution_count": 36,
   "id": "b547a805-1524-4650-b253-9de7522981dc",
   "metadata": {},
   "outputs": [
    {
     "data": {
      "text/plain": [
       "[0.782706257068181,\n",
       " 0.7806396840187928,\n",
       " 0.8052609890248731,\n",
       " 0.809085210291301,\n",
       " 0.8106495657740069,\n",
       " 0.8309395690511109]"
      ]
     },
     "execution_count": 36,
     "metadata": {},
     "output_type": "execute_result"
    }
   ],
   "source": [
    "ROC_AUC_SCORE"
   ]
  },
  {
   "cell_type": "code",
   "execution_count": 37,
   "id": "a100e47b-f78b-4c57-939b-86fc64be251f",
   "metadata": {},
   "outputs": [
    {
     "data": {
      "text/plain": [
       "Text(0.5, 1.0, 'Times to predict')"
      ]
     },
     "execution_count": 37,
     "metadata": {},
     "output_type": "execute_result"
    },
    {
     "data": {
      "image/png": "[encoded data removed]",
      "text/plain": [
       "<Figure size 432x288 with 1 Axes>"
      ]
     },
     "metadata": {
      "needs_background": "light"
     },
     "output_type": "display_data"
    }
   ],
   "source": [
    "fig,ax=plt.subplots()\n",
    "x = dims\n",
    "y1 = times_train\n",
    "y2 = times_pre\n",
    "# ax.plot(x,y1,label='times_train')\n",
    "ax.plot(x,y2,label='times_pre')\n",
    "ax.set_xlabel('dims')\n",
    "ax.set_ylabel('sec')\n",
    "ax.set_title('Times to predict')"
   ]
  },
  {
   "cell_type": "code",
   "execution_count": 38,
   "id": "27c14793-1806-4a48-b8e0-2c91a99cef6e",
   "metadata": {},
   "outputs": [
    {
     "data": {
      "text/plain": [
       "Text(0.5, 1.0, 'Times to train')"
      ]
     },
     "execution_count": 38,
     "metadata": {},
     "output_type": "execute_result"
    },
    {
     "data": {
      "image/png": "[encoded data removed]",
      "text/plain": [
       "<Figure size 432x288 with 1 Axes>"
      ]
     },
     "metadata": {
      "needs_background": "light"
     },
     "output_type": "display_data"
    }
   ],
   "source": [
    "fig,ax=plt.subplots()\n",
    "x = dims\n",
    "y1 = times_train\n",
    "y2 = times_pre\n",
    "# ax.plot(x,y1,label='times_train')\n",
    "ax.plot(x,y1)\n",
    "ax.set_xlabel('dims')\n",
    "ax.set_ylabel('sec')\n",
    "ax.set_title('Times to train')"
   ]
  },
  {
   "cell_type": "code",
   "execution_count": 39,
   "id": "9e9f09c5-63b2-4d48-a70f-0bded80cbc4f",
   "metadata": {},
   "outputs": [
    {
     "data": {
      "text/plain": [
       "Text(0.5, 1.0, 'ROC_AUC_SCORE')"
      ]
     },
     "execution_count": 39,
     "metadata": {},
     "output_type": "execute_result"
    },
    {
     "data": {
      "image/png": "[encoded data removed]",
      "text/plain": [
       "<Figure size 432x288 with 1 Axes>"
      ]
     },
     "metadata": {
      "needs_background": "light"
     },
     "output_type": "display_data"
    }
   ],
   "source": [
    "fig,ax=plt.subplots()\n",
    "x = dims\n",
    "y = ROC_AUC_SCORE\n",
    "ax.plot(x,y)\n",
    "ax.set_xlabel('dims')\n",
    "ax.set_ylabel('sec')\n",
    "ax.set_title('ROC_AUC_SCORE')"
   ]
  },
  {
   "cell_type": "code",
   "execution_count": 67,
   "id": "34e79656-a23a-47e4-91f8-56ac4cebb1ca",
   "metadata": {},
   "outputs": [
    {
     "name": "stdout",
     "output_type": "stream",
     "text": [
      "[[0.90157124 0.09842876]\n",
      " [0.98885761 0.01114239]\n",
      " [0.99469979 0.00530021]\n",
      " ...\n",
      " [0.99617821 0.00382179]\n",
      " [0.99678786 0.00321214]\n",
      " [0.99451624 0.00548376]]\n",
      "<class 'numpy.ndarray'>\n",
      "(1511571, 2)\n"
     ]
    }
   ],
   "source": [
    "print(predicted)\n",
    "print(type(predicted))\n",
    "print(predicted.shape)"
   ]
  },
  {
   "cell_type": "code",
   "execution_count": 68,
   "id": "68477375-8966-40db-a895-05f5e337fef2",
   "metadata": {},
   "outputs": [
    {
     "name": "stdout",
     "output_type": "stream",
     "text": [
      "0.7832853557926626\n"
     ]
    }
   ],
   "source": [
    "print(roc_auc_score(Y_test,predicted[:,-1]))"
   ]
  },
  {
   "cell_type": "code",
   "execution_count": 57,
   "id": "dab0d4f1-6dff-44f6-a107-fa86ba55365a",
   "metadata": {},
   "outputs": [
    {
     "name": "stdout",
     "output_type": "stream",
     "text": [
      "[0.00331231 0.00143618]\n"
     ]
    }
   ],
   "source": [
    "c = np.array( [[0.99668769,0.00331231],\n",
    "               [0.99856382,0.00143618]])\n",
    "print(c[:,-1])"
   ]
  },
  {
   "cell_type": "code",
   "execution_count": 13,
   "id": "e0a19713-36f0-45a8-9209-caaced6cdafd",
   "metadata": {},
   "outputs": [
    {
     "name": "stdout",
     "output_type": "stream",
     "text": [
      "[[0.95533985 0.04466015]\n",
      " [0.99542481 0.00457519]\n",
      " [0.99563118 0.00436882]\n",
      " ...\n",
      " [0.99863172 0.00136828]\n",
      " [0.98520957 0.01479043]\n",
      " [0.9974734  0.0025266 ]]\n"
     ]
    }
   ],
   "source": [
    "#lightGBM\n",
    "import lightgbm as lgb\n",
    "model = lgb.LGBMClassifier()\n",
    "model.fit(X_train,Y_train)\n",
    "Y_pre = model.predict_proba(X_test)\n",
    "print(Y_pre)"
   ]
  },
  {
   "cell_type": "code",
   "execution_count": 2,
   "id": "ec413ccd-b8fb-4db0-aaf2-b68e6ee7f027",
   "metadata": {},
   "outputs": [
    {
     "name": "stdout",
     "output_type": "stream",
     "text": [
      "Collecting lightgbm\n",
      "  Downloading lightgbm-3.3.2-py3-none-manylinux1_x86_64.whl (2.0 MB)\n",
      "\u001b[2K     \u001b[90m━━━━━━━━━━━━━━━━━━━━━━━━━━━━━━━━━━━━━━━━\u001b[0m \u001b[32m2.0/2.0 MB\u001b[0m \u001b[31m20.7 MB/s\u001b[0m eta \u001b[36m0:00:00\u001b[0m00:01\u001b[0m0:01\u001b[0m\n",
      "\u001b[?25hRequirement already satisfied: wheel in /opt/conda/lib/python3.7/site-packages (from lightgbm) (0.37.1)\n",
      "Requirement already satisfied: scipy in /opt/conda/lib/python3.7/site-packages (from lightgbm) (1.7.3)\n",
      "Requirement already satisfied: numpy in /opt/conda/lib/python3.7/site-packages (from lightgbm) (1.19.5)\n",
      "Requirement already satisfied: scikit-learn!=0.22.0 in /opt/conda/lib/python3.7/site-packages (from lightgbm) (1.0.2)\n",
      "Requirement already satisfied: threadpoolctl>=2.0.0 in /opt/conda/lib/python3.7/site-packages (from scikit-learn!=0.22.0->lightgbm) (3.1.0)\n",
      "Requirement already satisfied: joblib>=0.11 in /opt/conda/lib/python3.7/site-packages (from scikit-learn!=0.22.0->lightgbm) (1.1.0)\n",
      "Installing collected packages: lightgbm\n",
      "Successfully installed lightgbm-3.3.2\n"
     ]
    }
   ],
   "source": [
    "!pip install lightgbm"
   ]
  },
  {
   "cell_type": "code",
   "execution_count": 14,
   "id": "c6f84af7-d691-4f08-bc1d-dd33ecd2701f",
   "metadata": {},
   "outputs": [
    {
     "name": "stdout",
     "output_type": "stream",
     "text": [
      "0.8771437036145584\n"
     ]
    }
   ],
   "source": [
    "print(roc_auc_score(Y_test,Y_pre[:,-1]))"
   ]
  },
  {
   "cell_type": "code",
   "execution_count": null,
   "id": "9e703512-6ee8-4ccf-88a4-e2c918a7861b",
   "metadata": {},
   "outputs": [],
   "source": []
  }
 ],
 "metadata": {
  "environment": {
   "kernel": "python3",
   "name": "common-cpu.m94",
   "type": "gcloud",
   "uri": "gcr.io/deeplearning-platform-release/base-cpu:m94"
  },
  "kernelspec": {
   "display_name": "Python 3",
   "language": "python",
   "name": "python3"
  },
  "language_info": {
   "codemirror_mode": {
    "name": "ipython",
    "version": 3
   },
   "file_extension": ".py",
   "mimetype": "text/x-python",
   "name": "python",
   "nbconvert_exporter": "python",
   "pygments_lexer": "ipython3",
   "version": "3.7.12"
  }
 },
 "nbformat": 4,
 "nbformat_minor": 5
}
